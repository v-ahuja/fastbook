{
 "cells": [
  {
   "cell_type": "code",
   "execution_count": 1,
   "id": "f155bfd5",
   "metadata": {},
   "outputs": [],
   "source": [
    "!pip install -Uqq fastbook kaggle waterfallcharts treeinterpreter dtreeviz\n",
    "import fastbook\n",
    "fastbook.setup_book()"
   ]
  },
  {
   "cell_type": "code",
   "execution_count": 2,
   "id": "4a3d89e6",
   "metadata": {},
   "outputs": [],
   "source": [
    "import math"
   ]
  },
  {
   "cell_type": "code",
   "execution_count": 3,
   "id": "9593b27f",
   "metadata": {},
   "outputs": [
    {
     "name": "stdout",
     "output_type": "stream",
     "text": [
      "Reading package lists... Done\n",
      "Building dependency tree       \n",
      "Reading state information... Done\n",
      "Suggested packages:\n",
      "  zip\n",
      "The following NEW packages will be installed:\n",
      "  unzip\n",
      "0 upgraded, 1 newly installed, 0 to remove and 1 not upgraded.\n",
      "Need to get 168 kB of archives.\n",
      "After this operation, 567 kB of additional disk space will be used.\n",
      "Get:1 http://archive.ubuntu.com/ubuntu bionic-updates/main amd64 unzip amd64 6.0-21ubuntu1.1 [168 kB]\n",
      "Fetched 168 kB in 0s (416 kB/s)[0m\u001b[33m\n",
      "debconf: delaying package configuration, since apt-utils is not installed\n",
      "\n",
      "\u001b7\u001b[0;23r\u001b8\u001b[1ASelecting previously unselected package unzip.\n",
      "(Reading database ... 15734 files and directories currently installed.)\n",
      "Preparing to unpack .../unzip_6.0-21ubuntu1.1_amd64.deb ...\n",
      "\u001b7\u001b[24;0f\u001b[42m\u001b[30mProgress: [  0%]\u001b[49m\u001b[39m [..........................................................] \u001b8\u001b7\u001b[24;0f\u001b[42m\u001b[30mProgress: [ 17%]\u001b[49m\u001b[39m [#########.................................................] \u001b8Unpacking unzip (6.0-21ubuntu1.1) ...\n",
      "\u001b7\u001b[24;0f\u001b[42m\u001b[30mProgress: [ 33%]\u001b[49m\u001b[39m [###################.......................................] \u001b8\u001b7\u001b[24;0f\u001b[42m\u001b[30mProgress: [ 50%]\u001b[49m\u001b[39m [#############################.............................] \u001b8Setting up unzip (6.0-21ubuntu1.1) ...\n",
      "\u001b7\u001b[24;0f\u001b[42m\u001b[30mProgress: [ 67%]\u001b[49m\u001b[39m [######################################....................] \u001b8\u001b7\u001b[24;0f\u001b[42m\u001b[30mProgress: [ 83%]\u001b[49m\u001b[39m [################################################..........] \u001b8Processing triggers for mime-support (3.60ubuntu1) ...\n",
      "\n",
      "\u001b7\u001b[0;24r\u001b8\u001b[1A\u001b[J"
     ]
    }
   ],
   "source": [
    "!apt install unzip"
   ]
  },
  {
   "cell_type": "code",
   "execution_count": 3,
   "id": "5863ec7f",
   "metadata": {},
   "outputs": [],
   "source": [
    "from fastbook import *"
   ]
  },
  {
   "cell_type": "code",
   "execution_count": 4,
   "id": "8fc6662b",
   "metadata": {},
   "outputs": [
    {
     "data": {
      "text/plain": [
       "Path('/root/.kaggle/kaggle.json')"
      ]
     },
     "execution_count": 4,
     "metadata": {},
     "output_type": "execute_result"
    }
   ],
   "source": [
    "cred_path = Path('~/.kaggle/kaggle.json').expanduser()\n",
    "cred_path"
   ]
  },
  {
   "cell_type": "code",
   "execution_count": 5,
   "id": "0cfdf789",
   "metadata": {},
   "outputs": [],
   "source": [
    "import os\n",
    "\n",
    "if not cred_path.exists():\n",
    "    cred_path.parent.mkdir(exist_ok=True)\n",
    "    os.system(\"cp -n kaggle.json ~/.kaggle\")\n",
    "    cred_path.chmod(0o600)"
   ]
  },
  {
   "cell_type": "code",
   "execution_count": 21,
   "id": "b1793e2a",
   "metadata": {},
   "outputs": [],
   "source": [
    "#hide\n",
    "from kaggle import api\n",
    "from pandas.api.types import is_string_dtype, is_numeric_dtype, is_categorical_dtype\n",
    "from fastai.tabular.all import *\n",
    "from sklearn.ensemble import RandomForestClassifier\n",
    "from sklearn.tree import DecisionTreeRegressor\n",
    "from dtreeviz.trees import *\n",
    "from IPython.display import Image, display_svg, SVG\n",
    "\n",
    "pd.options.display.max_rows = 20\n",
    "pd.options.display.max_columns = 20"
   ]
  },
  {
   "cell_type": "code",
   "execution_count": 7,
   "id": "4b07fba8",
   "metadata": {},
   "outputs": [],
   "source": [
    "from fastai.tabular.all import *"
   ]
  },
  {
   "cell_type": "code",
   "execution_count": 8,
   "id": "8893b62d",
   "metadata": {},
   "outputs": [
    {
     "data": {
      "text/plain": [
       "True"
      ]
     },
     "execution_count": 8,
     "metadata": {},
     "output_type": "execute_result"
    }
   ],
   "source": [
    "data_path = Path('/storage/data/titanic')\n",
    "data_path.exists()"
   ]
  },
  {
   "cell_type": "code",
   "execution_count": 10,
   "id": "adbb6711",
   "metadata": {},
   "outputs": [],
   "source": [
    "if not data_path.exists():\n",
    "    os.system(\"mkdir /storage/data/titanic\")"
   ]
  },
  {
   "cell_type": "code",
   "execution_count": 11,
   "id": "61500b9f",
   "metadata": {},
   "outputs": [],
   "source": [
    "csv_names = ('train.csv', 'test.csv', 'gender_submission.csv')\n",
    "for csv in csv_names:\n",
    "    path = data_path/csv\n",
    "    if not path.exists():\n",
    "        os.system('kaggle competitions download -c titanic')\n",
    "        os.system('mv titanic.zip /storage/data/titanic')\n",
    "        os.system('unzip /storage/data/titanic/titanic.zip')\n",
    "        os.system('rm /storage/data/titanic/titanic.zip')\n",
    "        \n",
    "for csv in csv_names:\n",
    "    assert (data_path/csv).exists()"
   ]
  },
  {
   "cell_type": "code",
   "execution_count": 9,
   "id": "84c89443",
   "metadata": {},
   "outputs": [],
   "source": [
    "def r_mse(pred, y): return round(math.sqrt(((pred-y)**2).mean()), 6)"
   ]
  },
  {
   "cell_type": "code",
   "execution_count": 10,
   "id": "8cc952e7",
   "metadata": {},
   "outputs": [],
   "source": [
    "def error(pred, y):\n",
    "    return torch.where(pred != y)[0].size()[0] / pred.size()[0]"
   ]
  },
  {
   "cell_type": "code",
   "execution_count": 11,
   "id": "186a72e0",
   "metadata": {},
   "outputs": [],
   "source": [
    "def categorize_df(df : pd.DataFrame):\n",
    "    df['Pclass'] = df['Pclass'].astype(pd.CategoricalDtype(categories=[1,2,3], ordered=True))\n",
    "    return df"
   ]
  },
  {
   "cell_type": "code",
   "execution_count": 12,
   "id": "fd1f2fbe",
   "metadata": {},
   "outputs": [],
   "source": [
    "def create_dl(df, cat_names, cont_names, splits, procs):\n",
    "    with no_random():\n",
    "        dl = TabularPandas(\n",
    "            df,\n",
    "            procs,\n",
    "            cat_names=cat_names,\n",
    "            cont_names=cont_names,\n",
    "            y_names=\"Survived\",\n",
    "            splits=splits,\n",
    "            reduce_memory=False)\n",
    "    return dl"
   ]
  },
  {
   "cell_type": "code",
   "execution_count": 13,
   "id": "c1e2095f",
   "metadata": {},
   "outputs": [],
   "source": [
    "def fit_and_calc_error(dl):\n",
    "    with no_random():\n",
    "        rf.fit(dl.train.xs, dl.train.y)\n",
    "        \n",
    "    predicted_train_ys = tensor(rf.predict(dl.train.xs))\n",
    "    train_error = error(predicted_train_ys, tensor(dl.train.ys).squeeze() )\n",
    "    # train_rmse = r_mse(predicted_train_ys, dl.train.ys)\n",
    "    predicted_valid_ys = tensor(rf.predict(dl.valid.xs))\n",
    "    valid_error = error(predicted_valid_ys, tensor(dl.valid.ys).squeeze() )\n",
    "    # valid_rmse = r_mse(predicted_valid_ys, dl.valid.ys)\n",
    "    return (rf, train_error, valid_error)"
   ]
  },
  {
   "cell_type": "code",
   "execution_count": 14,
   "id": "e9018197",
   "metadata": {},
   "outputs": [],
   "source": [
    "def feat_imp(model, x_names):\n",
    "    return pd.DataFrame({'names' : x_names, 'imp' : model.feature_importances_ }).sort_values('imp', ascending=False)"
   ]
  },
  {
   "cell_type": "code",
   "execution_count": 15,
   "id": "c32d2f83",
   "metadata": {},
   "outputs": [],
   "source": [
    "def fit_calc_error_and_plot(dl):\n",
    "    rf, train_error,valid_error = fit_and_calc_error(dl)\n",
    "    feat_imp(rf, dl.train.xs.columns).plot(x='names',kind='barh')\n",
    "    return train_error,valid_error"
   ]
  },
  {
   "cell_type": "code",
   "execution_count": 19,
   "id": "e60a6e64",
   "metadata": {},
   "outputs": [],
   "source": [
    "df = pd.read_csv(data_path/'train.csv', low_memory=False)"
   ]
  },
  {
   "cell_type": "code",
   "execution_count": 25,
   "id": "37f9c7f8",
   "metadata": {},
   "outputs": [
    {
     "name": "stdout",
     "output_type": "stream",
     "text": [
      "<class 'pandas.core.frame.DataFrame'>\n",
      "RangeIndex: 891 entries, 0 to 890\n",
      "Data columns (total 12 columns):\n",
      " #   Column       Non-Null Count  Dtype  \n",
      "---  ------       --------------  -----  \n",
      " 0   PassengerId  891 non-null    int64  \n",
      " 1   Survived     891 non-null    int64  \n",
      " 2   Pclass       891 non-null    int64  \n",
      " 3   Name         891 non-null    object \n",
      " 4   Sex          891 non-null    object \n",
      " 5   Age          714 non-null    float64\n",
      " 6   SibSp        891 non-null    int64  \n",
      " 7   Parch        891 non-null    int64  \n",
      " 8   Ticket       891 non-null    object \n",
      " 9   Fare         891 non-null    float64\n",
      " 10  Cabin        204 non-null    object \n",
      " 11  Embarked     889 non-null    object \n",
      "dtypes: float64(2), int64(5), object(5)\n",
      "memory usage: 83.7+ KB\n"
     ]
    }
   ],
   "source": [
    "df.info()"
   ]
  },
  {
   "cell_type": "markdown",
   "id": "212d557f",
   "metadata": {},
   "source": [
    "### Data checks (TODO Evaluate whether to do this or not. skipping for now)\n",
    "\n",
    "#### Null values\n",
    "\n",
    "Age and Cabin have the main null values. Embarked has a couple of nulls.\n",
    "Check suitable fill values for nulls? There are columns to specify if age, cabin and embarked have null values. Ex. `Age_na`. Then when we check feature importance, it will tell us how important it is that the column is null."
   ]
  },
  {
   "cell_type": "code",
   "execution_count": 26,
   "id": "5a9d832e",
   "metadata": {},
   "outputs": [
    {
     "name": "stderr",
     "output_type": "stream",
     "text": [
      "/opt/conda/lib/python3.7/site-packages/sklearn/base.py:446: UserWarning: X does not have valid feature names, but RandomForestClassifier was fitted with feature names\n",
      "  \"X does not have valid feature names, but\"\n"
     ]
    },
    {
     "data": {
      "text/plain": [
       "(0.24544179523141654, 0.21910112359550563)"
      ]
     },
     "execution_count": 26,
     "metadata": {},
     "output_type": "execute_result"
    },
    {
     "data": {
      "image/png": "[encoded data removed]",
      "text/plain": [
       "<Figure size 432x288 with 1 Axes>"
      ]
     },
     "metadata": {
      "needs_background": "light"
     },
     "output_type": "display_data"
    }
   ],
   "source": [
    "with no_random():\n",
    "    df = categorize_df(df)\n",
    "    cont_names,cat_names = cont_cat_split(df, dep_var='Survived')\n",
    "    train,valid = RandomSplitter(seed=42)(df)\n",
    "    rf = RandomForestClassifier(n_jobs=-1, min_samples_leaf=30, max_samples=100, max_features=3, oob_score=True, random_state=42)\n",
    "procs = [Categorify, FillMissing]\n",
    "\n",
    "dl = create_dl(df, cat_names=cat_names, cont_names=cont_names, splits=(train,valid), procs=procs)\n",
    "fit_calc_error_and_plot(dl)\n",
    "\n",
    "# (0.24544179523141654, 0.21910112359550563)"
   ]
  },
  {
   "cell_type": "code",
   "execution_count": 27,
   "id": "38db6cd0",
   "metadata": {},
   "outputs": [
    {
     "data": {
      "text/plain": [
       "(0.7475455820476858, 0.7808988764044944)"
      ]
     },
     "execution_count": 27,
     "metadata": {},
     "output_type": "execute_result"
    }
   ],
   "source": [
    "rf.oob_score_, rf.score(dl.valid.xs, dl.valid.ys)"
   ]
  },
  {
   "cell_type": "code",
   "execution_count": 49,
   "id": "31beb2f2",
   "metadata": {},
   "outputs": [
    {
     "data": {
      "text/plain": [
       "(['PassengerId', 'Age', 'Fare'],\n",
       " ['Pclass',\n",
       "  'Name',\n",
       "  'Sex',\n",
       "  'SibSp',\n",
       "  'Parch',\n",
       "  'Ticket',\n",
       "  'Cabin',\n",
       "  'Embarked',\n",
       "  'Age_na'])"
      ]
     },
     "execution_count": 49,
     "metadata": {},
     "output_type": "execute_result"
    }
   ],
   "source": [
    "cont_names,cat_names"
   ]
  },
  {
   "cell_type": "markdown",
   "id": "03880692",
   "metadata": {},
   "source": [
    "Need to see how what percentage of each fare \"category\" survived. split fare into categories of '30'"
   ]
  },
  {
   "cell_type": "code",
   "execution_count": 23,
   "id": "8a94bfd1",
   "metadata": {},
   "outputs": [],
   "source": [
    "fare_df = df.set_index('Fare')"
   ]
  },
  {
   "cell_type": "code",
   "execution_count": 28,
   "id": "38c52243",
   "metadata": {},
   "outputs": [
    {
     "data": {
      "text/plain": [
       "{0.0: [0.0, 0.0, 0.0, 0.0, 0.0, 0.0, 0.0, 0.0, 0.0, 0.0, 0.0, 0.0, 0.0, 0.0, 0.0], 0.13375: [4.0125], 0.16666666666666666: [5.0], 0.20791666666666667: [6.2375], 0.21458333333333332: [6.4375], 0.215: [6.45], 0.21652666666666667: [6.4958, 6.4958], 0.225: [6.75, 6.75], 0.22861: [6.8583], 0.23166666666666666: [6.95], 0.23249999999999998: [6.975, 6.975], 0.23485999999999999: [7.0458], 0.235: [7.05, 7.05, 7.05, 7.05, 7.05, 7.05, 7.05], 0.23514: [7.0542, 7.0542], 0.2375: [7.125, 7.125, 7.125, 7.125], 0.23805666666666667: [7.1417], 0.24083333333333332: [7.225, 7.225, 7.225, 7.225, 7.225, 7.225, 7.225, 7.225, 7.225, 7.225, 7.225, 7.225], 0.24097333333333332: [7.2292, 7.2292, 7.2292, 7.2292, 7.2292, 7.2292, 7.2292, 7.2292, 7.2292, 7.2292, 7.2292, 7.2292, 7.2292, 7.2292, 7.2292], 0.24166666666666667: [7.25, 7.25, 7.25, 7.25, 7.25, 7.25, 7.25, 7.25, 7.25, 7.25, 7.25, 7.25, 7.25], 0.24375: [7.3125], 0.24986: [7.4958, 7.4958, 7.4958], 0.2506933333333333: [7.5208], 0.25166666666666665: [7.55, 7.55, 7.55, 7.55], 0.2543066666666667: [7.6292], 0.255: [7.65, 7.65, 7.65, 7.65], 0.2575: [7.725], 0.25764: [7.7292], 0.25777666666666665: [7.7333, 7.7333, 7.7333, 7.7333], 0.2579166666666667: [7.7375, 7.7375], 0.25805666666666666: [7.7417], 0.25833333333333336: [7.75, 7.75, 7.75, 7.75, 7.75, 7.75, 7.75, 7.75, 7.75, 7.75, 7.75, 7.75, 7.75, 7.75, 7.75, 7.75, 7.75, 7.75, 7.75, 7.75, 7.75, 7.75, 7.75, 7.75, 7.75, 7.75, 7.75, 7.75, 7.75, 7.75, 7.75, 7.75, 7.75, 7.75], 0.25916666666666666: [7.775, 7.775, 7.775, 7.775, 7.775, 7.775, 7.775, 7.775, 7.775, 7.775, 7.775, 7.775, 7.775, 7.775, 7.775, 7.775], 0.25958333333333333: [7.7875], 0.25986: [7.7958, 7.7958, 7.7958, 7.7958, 7.7958, 7.7958], 0.26: [7.8], 0.26097333333333333: [7.8292, 7.8292], 0.26180666666666663: [7.8542, 7.8542, 7.8542, 7.8542, 7.8542, 7.8542, 7.8542, 7.8542, 7.8542, 7.8542, 7.8542, 7.8542, 7.8542], 0.2625: [7.875], 0.26264: [7.8792, 7.8792, 7.8792, 7.8792], 0.2629166666666667: [7.8875], 0.26319333333333333: [7.8958, 7.8958, 7.8958, 7.8958, 7.8958, 7.8958, 7.8958, 7.8958, 7.8958, 7.8958, 7.8958, 7.8958, 7.8958, 7.8958, 7.8958, 7.8958, 7.8958, 7.8958, 7.8958, 7.8958, 7.8958, 7.8958, 7.8958, 7.8958, 7.8958, 7.8958, 7.8958, 7.8958, 7.8958, 7.8958, 7.8958, 7.8958, 7.8958, 7.8958, 7.8958, 7.8958, 7.8958, 7.8958], 0.26416666666666666: [7.925, 7.925, 7.925, 7.925, 7.925, 7.925, 7.925, 7.925, 7.925, 7.925, 7.925, 7.925, 7.925, 7.925, 7.925, 7.925, 7.925, 7.925], 0.26764: [8.0292], 0.26833333333333337: [8.05, 8.05, 8.05, 8.05, 8.05, 8.05, 8.05, 8.05, 8.05, 8.05, 8.05, 8.05, 8.05, 8.05, 8.05, 8.05, 8.05, 8.05, 8.05, 8.05, 8.05, 8.05, 8.05, 8.05, 8.05, 8.05, 8.05, 8.05, 8.05, 8.05, 8.05, 8.05, 8.05, 8.05, 8.05, 8.05, 8.05, 8.05, 8.05, 8.05, 8.05, 8.05, 8.05], 0.2704166666666667: [8.1125], 0.27125: [8.1375], 0.27194333333333337: [8.1583], 0.27666666666666667: [8.3], 0.27875: [8.3625], 0.28014: [8.4042], 0.28110999999999997: [8.4333], 0.2819433333333333: [8.4583], 0.28389000000000003: [8.5167], 0.2884733333333333: [8.6542], 0.28875: [8.6625, 8.6625, 8.6625, 8.6625, 8.6625, 8.6625, 8.6625, 8.6625, 8.6625, 8.6625, 8.6625, 8.6625, 8.6625], 0.28944333333333333: [8.6833], 0.29041666666666666: [8.7125], 0.295: [8.85], 0.3: [9.0, 9.0], 0.3072233333333333: [9.2167], 0.3075: [9.225, 9.225], 0.31166666666666665: [9.35, 9.35], 0.3158333333333333: [9.475], 0.31611: [9.4833], 0.31666666666666665: [9.5, 9.5, 9.5, 9.5, 9.5, 9.5, 9.5, 9.5, 9.5], 0.31958333333333333: [9.5875, 9.5875], 0.32749999999999996: [9.825, 9.825], 0.3279166666666667: [9.8375], 0.32805666666666666: [9.8417], 0.32819333333333334: [9.8458], 0.33902666666666664: [10.1708], 0.34875: [10.4625, 10.4625], 0.35: [10.5, 10.5, 10.5, 10.5, 10.5, 10.5, 10.5, 10.5, 10.5, 10.5, 10.5, 10.5, 10.5, 10.5, 10.5, 10.5, 10.5, 10.5, 10.5, 10.5, 10.5, 10.5, 10.5, 10.5], 0.3505566666666667: [10.5167], 0.37111: [11.1333, 11.1333, 11.1333], 0.37472333333333335: [11.2417, 11.2417], 0.38333333333333336: [11.5, 11.5, 11.5, 11.5], 0.4: [12.0], 0.4091666666666667: [12.275], 0.4095833333333333: [12.2875], 0.4116666666666667: [12.35, 12.35, 12.35], 0.41583333333333333: [12.475, 12.475, 12.475, 12.475], 0.41750000000000004: [12.525], 0.4216666666666667: [12.65], 0.42916666666666664: [12.875], 0.43333333333333335: [13.0, 13.0, 13.0, 13.0, 13.0, 13.0, 13.0, 13.0, 13.0, 13.0, 13.0, 13.0, 13.0, 13.0, 13.0, 13.0, 13.0, 13.0, 13.0, 13.0, 13.0, 13.0, 13.0, 13.0, 13.0, 13.0, 13.0, 13.0, 13.0, 13.0, 13.0, 13.0, 13.0, 13.0, 13.0, 13.0, 13.0, 13.0, 13.0, 13.0, 13.0, 13.0], 0.44722333333333336: [13.4167], 0.45: [13.5, 13.5, 13.5, 13.5], 0.4597233333333334: [13.7917], 0.4619433333333333: [13.8583], 0.46208333333333335: [13.8625], 0.4666666666666667: [14.0], 0.4702766666666667: [14.1083], 0.48000000000000004: [14.4, 14.4], 0.48180666666666666: [14.4542, 14.4542, 14.4542, 14.4542, 14.4542, 14.4542, 14.4542], 0.48194333333333333: [14.4583, 14.4583, 14.4583], 0.48333333333333334: [14.5, 14.5, 14.5, 14.5, 14.5, 14.5, 14.5], 0.5: [15.0], 0.5015266666666667: [15.0458], 0.5016666666666667: [15.05], ...}"
      ]
     },
     "execution_count": 28,
     "metadata": {},
     "output_type": "execute_result"
    }
   ],
   "source": [
    "def grouper(fare):\n",
    "    return fare / 30\n",
    "fare_df.groupby(grouper).groups"
   ]
  },
  {
   "cell_type": "code",
   "execution_count": 65,
   "id": "f18cbe4a",
   "metadata": {},
   "outputs": [],
   "source": [
    "max_fare = math.ceil(df['Fare'].max())\n",
    "for i in range(0, max_fare + 30, 30):\n",
    "    range_label = f'{i} - {i + 30}'\n",
    "    range_df = df[ (df['Fare'] > i) & (df['Fare'] <= i + 30) ]\n",
    "    num_in_range = len(range_df)"
   ]
  },
  {
   "cell_type": "code",
   "execution_count": 37,
   "id": "0cdb44d1",
   "metadata": {},
   "outputs": [
    {
     "data": {
      "text/html": [
       "<div>\n",
       "<style scoped>\n",
       "    .dataframe tbody tr th:only-of-type {\n",
       "        vertical-align: middle;\n",
       "    }\n",
       "\n",
       "    .dataframe tbody tr th {\n",
       "        vertical-align: top;\n",
       "    }\n",
       "\n",
       "    .dataframe thead th {\n",
       "        text-align: right;\n",
       "    }\n",
       "</style>\n",
       "<table border=\"1\" class=\"dataframe\">\n",
       "  <thead>\n",
       "    <tr style=\"text-align: right;\">\n",
       "      <th></th>\n",
       "      <th>classes</th>\n",
       "      <th>survived_percent</th>\n",
       "    </tr>\n",
       "  </thead>\n",
       "  <tbody>\n",
       "    <tr>\n",
       "      <th>0</th>\n",
       "      <td>1</td>\n",
       "      <td>62.962963</td>\n",
       "    </tr>\n",
       "    <tr>\n",
       "      <th>1</th>\n",
       "      <td>2</td>\n",
       "      <td>47.282609</td>\n",
       "    </tr>\n",
       "    <tr>\n",
       "      <th>2</th>\n",
       "      <td>3</td>\n",
       "      <td>24.236253</td>\n",
       "    </tr>\n",
       "  </tbody>\n",
       "</table>\n",
       "</div>"
      ],
      "text/plain": [
       "   classes  survived_percent\n",
       "0        1         62.962963\n",
       "1        2         47.282609\n",
       "2        3         24.236253"
      ]
     },
     "execution_count": 37,
     "metadata": {},
     "output_type": "execute_result"
    }
   ],
   "source": [
    "# calc the num first / num second / num third\n",
    "# plot percentages of each (Survived, Died) on a bar plot\n",
    "# doing 2 bars for each pclass (survived %, died %)\n",
    "# survived % = num\n",
    "\n",
    "# def calc_percent_survived_in_cat_value(cat_name):\n",
    "\n",
    "cats = []\n",
    "percent_survived = []\n",
    "\n",
    "for cat in df['Pclass'].cat.categories:\n",
    "    num_in_cat = len(df[ df['Pclass'] == cat])\n",
    "    num_cat_survived = len(df[ (df['Pclass'] == cat) & (df['Survived'] == 1)])\n",
    "    cats.append(cat)\n",
    "    percent_survived.append(num_cat_survived * 100 / num_in_cat)\n",
    "\n",
    "class_df = pd.DataFrame({'classes' : cats, 'survived_percent' : percent_survived})\n",
    "class_df"
   ]
  },
  {
   "cell_type": "code",
   "execution_count": 38,
   "id": "92e4e182",
   "metadata": {},
   "outputs": [
    {
     "data": {
      "text/plain": [
       "(['PassengerId', 'Age', 'Fare'], 3)"
      ]
     },
     "execution_count": 38,
     "metadata": {},
     "output_type": "execute_result"
    }
   ],
   "source": [
    "cont,cat"
   ]
  },
  {
   "cell_type": "code",
   "execution_count": 75,
   "id": "48189a34",
   "metadata": {},
   "outputs": [
    {
     "data": {
      "text/plain": [
       "<AxesSubplot:>"
      ]
     },
     "execution_count": 75,
     "metadata": {},
     "output_type": "execute_result"
    },
    {
     "data": {
      "image/png": "[encoded data removed]",
      "text/plain": [
       "<Figure size 432x288 with 1 Axes>"
      ]
     },
     "metadata": {
      "needs_background": "light"
     },
     "output_type": "display_data"
    }
   ],
   "source": [
    "df[df['Survived'] == 0]['Pclass'].hist()"
   ]
  },
  {
   "cell_type": "code",
   "execution_count": null,
   "id": "2d4145b9",
   "metadata": {},
   "outputs": [],
   "source": []
  }
 ],
 "metadata": {
  "kernelspec": {
   "display_name": "Python 3 (ipykernel)",
   "language": "python",
   "name": "python3"
  },
  "language_info": {
   "codemirror_mode": {
    "name": "ipython",
    "version": 3
   },
   "file_extension": ".py",
   "mimetype": "text/x-python",
   "name": "python",
   "nbconvert_exporter": "python",
   "pygments_lexer": "ipython3",
   "version": "3.7.11"
  }
 },
 "nbformat": 4,
 "nbformat_minor": 5
}
